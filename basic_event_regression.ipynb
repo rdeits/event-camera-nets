{
 "cells": [
  {
   "cell_type": "code",
   "execution_count": 1,
   "metadata": {
    "collapsed": false
   },
   "outputs": [
    {
     "name": "stdout",
     "output_type": "stream",
     "text": [
      "Populating the interactive namespace from numpy and matplotlib\n"
     ]
    }
   ],
   "source": [
    "%pylab inline"
   ]
  },
  {
   "cell_type": "code",
   "execution_count": 2,
   "metadata": {
    "collapsed": false
   },
   "outputs": [],
   "source": [
    "import numpy as np\n",
    "import time\n",
    "import tensorflow as tf\n",
    "from mpl_toolkits.mplot3d import Axes3D\n",
    "from collections import namedtuple\n",
    "import os"
   ]
  },
  {
   "cell_type": "code",
   "execution_count": 3,
   "metadata": {
    "collapsed": true
   },
   "outputs": [],
   "source": [
    "from eventcnn.datasources.davis import DavisDataset\n",
    "from eventcnn.datasources.eventsource import EventSource, CachedDenseEventSource"
   ]
  },
  {
   "cell_type": "code",
   "execution_count": 4,
   "metadata": {
    "collapsed": true
   },
   "outputs": [],
   "source": [
    "source = CachedDenseEventSource(\"data/dense\")"
   ]
  },
  {
   "cell_type": "code",
   "execution_count": 5,
   "metadata": {
    "collapsed": false
   },
   "outputs": [],
   "source": [
    "N_EVENT_SLICES = source.event_slices\n",
    "BATCH_SIZE = 10\n",
    "N_EVENT_ROWS = source.rows\n",
    "N_EVENT_COLS = source.cols\n",
    "LABEL_SCALE_FACTOR = np.float32(1.0 / np.max(np.abs(source.training()[\"labels\"])))  # Rescale the positions to be in the range [-1, 1]"
   ]
  },
  {
   "cell_type": "code",
   "execution_count": 6,
   "metadata": {
    "collapsed": true
   },
   "outputs": [],
   "source": [
    "# Copied from the tensorflow tutorial in class\n",
    "def init_weights(shape):\n",
    "    return tf.Variable(tf.random_normal(shape, stddev=0.01))\n",
    "\n",
    "def init_bias(shape):\n",
    "    return tf.Variable(tf.zeros(shape))"
   ]
  },
  {
   "cell_type": "code",
   "execution_count": 7,
   "metadata": {
    "collapsed": false
   },
   "outputs": [],
   "source": [
    "def n_output_channels(layer):\n",
    "    return layer.get_shape()[-1].value\n",
    "\n",
    "def n_outputs(layer):\n",
    "    out = layer.get_shape()[1].value\n",
    "    for d in layer.get_shape()[2:]:\n",
    "        out *= d.value\n",
    "    return out\n"
   ]
  },
  {
   "cell_type": "code",
   "execution_count": 8,
   "metadata": {
    "collapsed": false
   },
   "outputs": [],
   "source": [
    "WeightBias = namedtuple(\"WeightBias\", [\"weights\", \"bias\"])"
   ]
  },
  {
   "cell_type": "code",
   "execution_count": 12,
   "metadata": {
    "collapsed": false
   },
   "outputs": [],
   "source": [
    "input_tensor = tf.placeholder(tf.float32, [None, \n",
    "                                           N_EVENT_COLS, \n",
    "                                           N_EVENT_ROWS, \n",
    "                                           N_EVENT_SLICES, \n",
    "                                           2])\n",
    "dropout_keep_prob = tf.placeholder(tf.float32)\n",
    "\n",
    "# Layer1: 3D convolution + relu activation + max_pool\n",
    "weight_vars = {\"conv1\": WeightBias(init_weights([3, 3, 3, 2, 6]),\n",
    "                        init_bias(6))}\n",
    "conv1 = tf.nn.conv3d(input_tensor, weight_vars[\"conv1\"].weights, \n",
    "                     strides=[1,1,1,1,1], padding='SAME')\n",
    "conv1 = tf.nn.relu(tf.nn.bias_add(conv1, weight_vars[\"conv1\"].bias))\n",
    "pool1 = tf.nn.max_pool3d(conv1, ksize=[1, 2, 2, 2, 1], \n",
    "                         strides=[1, 2, 2, 2, 1], padding=\"SAME\")\n",
    "\n",
    "# Layer2: 3D convolution + relu activation + max_pool\n",
    "weight_vars[\"conv2\"] = WeightBias(init_weights([3,3,2, n_output_channels(pool1),6]),\n",
    "                                  init_bias(6))\n",
    "conv2 = tf.nn.conv3d(pool1, \n",
    "                     weight_vars[\"conv2\"].weights, \n",
    "                     strides=[1, 1, 1, 1, 1], padding=\"SAME\")\n",
    "conv2 = tf.nn.relu(tf.nn.bias_add(conv2, weight_vars[\"conv2\"].bias))\n",
    "pool2 = tf.nn.max_pool3d(conv1, ksize=[1, 2, 2, 2, 1], strides=[1, 2, 2, 2, 1], padding=\"SAME\")\n",
    "\n",
    "# Layer3: 3D convolution + relu activation + max_pool\n",
    "weight_vars[\"conv3\"] = WeightBias(init_weights([3,3,2, n_output_channels(pool2),6]),\n",
    "                                  init_bias(6))\n",
    "conv3 = tf.nn.conv3d(pool2, \n",
    "                     weight_vars[\"conv3\"].weights, \n",
    "                     strides=[1, 1, 1, 1, 1], padding=\"SAME\")\n",
    "conv3 = tf.nn.relu(tf.nn.bias_add(conv3, weight_vars[\"conv3\"].bias))\n",
    "pool3 = tf.nn.max_pool3d(conv3, ksize=[1, 2, 2, 2, 1], strides=[1, 2, 2, 2, 1], padding=\"SAME\")\n",
    "\n",
    "# Layer4: 3D convolution + relu activation + max_pool\n",
    "weight_vars[\"conv4\"] = WeightBias(init_weights([3,3,2, n_output_channels(pool2),6]),\n",
    "                                  init_bias(6))\n",
    "conv4 = tf.nn.conv3d(pool3, \n",
    "                     weight_vars[\"conv4\"].weights, \n",
    "                     strides=[1, 1, 1, 1, 1], padding=\"SAME\")\n",
    "conv4 = tf.nn.relu(tf.nn.bias_add(conv4, weight_vars[\"conv4\"].bias))\n",
    "pool4 = tf.nn.max_pool3d(conv4, ksize=[1, 2, 2, 2, 1], strides=[1, 2, 2, 2, 1], padding=\"SAME\")\n",
    "\n",
    "# Layer5: Fully connected + relu + dropout\n",
    "weight_vars[\"fc1\"] = WeightBias(init_weights([n_outputs(pool4), 32]),\n",
    "                                init_bias(32))\n",
    "fc1 = tf.reshape(pool4, [-1, n_outputs(pool4)])\n",
    "fc1 = tf.add(tf.matmul(fc1, weight_vars[\"fc1\"].weights), weight_vars[\"fc1\"].bias)\n",
    "fc1 = tf.nn.relu(fc1)\n",
    "fc1 = tf.nn.dropout(fc1, dropout_keep_prob)\n",
    "\n",
    "# Layer4: Fully connected + relu  + dropout\n",
    "#weight_vars[\"fc4\"] = WeightBias(init_weights([n_outputs(fc3), 32]),\n",
    "#                                init_bias(32))\n",
    "#fc4 = tf.reshape(fc3, [-1, n_outputs(fc3)])\n",
    "#fc4 = tf.add(tf.matmul(fc4, weight_vars[\"fc4\"].weights), weight_vars[\"fc4\"].bias)\n",
    "#fc4 = tf.nn.relu(fc4)\n",
    "#fc4 = tf.nn.dropout(fc4, dropout_keep_prob)\n",
    "\n",
    "# Output layer\n",
    "weight_vars[\"out\"] = WeightBias(init_weights([n_outputs(fc1), 3]),\n",
    "                                init_bias(3))\n",
    "out = tf.add(tf.matmul(fc1, weight_vars[\"out\"].weights), weight_vars[\"out\"].bias)\n",
    "\n",
    "y = tf.placeholder(tf.float32, [None, 3])\n",
    "\n",
    "loss = tf.nn.l2_loss(tf.sub(out, tf.mul(LABEL_SCALE_FACTOR, y)))\n",
    "avg_loss = tf.reduce_mean(loss)\n",
    "train_optimizer = tf.train.AdamOptimizer(learning_rate=0.0005).minimize(loss)\n",
    "\n",
    "init = tf.initialize_all_variables()\n",
    "\n",
    "saver = tf.train.Saver()"
   ]
  },
  {
   "cell_type": "code",
   "execution_count": 13,
   "metadata": {
    "collapsed": true
   },
   "outputs": [],
   "source": [
    "sess = tf.Session()\n",
    "sess.run(init)\n",
    "os.makedirs(\"models\", exist_ok=True)"
   ]
  },
  {
   "cell_type": "code",
   "execution_count": 14,
   "metadata": {
    "collapsed": false,
    "scrolled": true
   },
   "outputs": [
    {
     "name": "stdout",
     "output_type": "stream",
     "text": [
      "training step: 0, average loss test: 0.147020, average loss train: 0.222167\n",
      "model saved\n",
      "training step: 1, average loss test: 0.112507, average loss train: 0.152313\n",
      "model saved\n",
      "training step: 2, average loss test: 0.113772, average loss train: 0.108903\n",
      "model saved\n",
      "training step: 3, average loss test: 0.100352, average loss train: 0.140276\n",
      "model saved\n",
      "training step: 4, average loss test: 0.099820, average loss train: 0.135724\n",
      "model saved\n",
      "training step: 5, average loss test: 0.090190, average loss train: 0.154710\n",
      "model saved\n",
      "training step: 6, average loss test: 0.089551, average loss train: 0.144379\n",
      "model saved\n",
      "training step: 7, average loss test: 0.073039, average loss train: 0.151977\n",
      "model saved\n",
      "training step: 8, average loss test: 0.089933, average loss train: 0.125860\n",
      "model saved\n",
      "training step: 9, average loss test: 0.071816, average loss train: 0.140721\n",
      "model saved\n",
      "training step: 10, average loss test: 0.057850, average loss train: 0.117874\n",
      "model saved\n",
      "training step: 11, average loss test: 0.040646, average loss train: 0.103075\n",
      "model saved\n",
      "training step: 12, average loss test: 0.031274, average loss train: 0.124159\n",
      "model saved\n",
      "training step: 13, average loss test: 0.029225, average loss train: 0.129758\n",
      "model saved\n",
      "training step: 14, average loss test: 0.043077, average loss train: 0.102554\n",
      "model saved\n",
      "training step: 15, average loss test: 0.019414, average loss train: 0.142809\n",
      "model saved\n",
      "training step: 16, average loss test: 0.043481, average loss train: 0.101056\n",
      "model saved\n",
      "training step: 17, average loss test: 0.019381, average loss train: 0.153028\n",
      "model saved\n"
     ]
    },
    {
     "ename": "KeyboardInterrupt",
     "evalue": "",
     "output_type": "error",
     "traceback": [
      "\u001b[0;31m---------------------------------------------------------------------------\u001b[0m",
      "\u001b[0;31mKeyboardInterrupt\u001b[0m                         Traceback (most recent call last)",
      "\u001b[0;32m<ipython-input-14-ba428944fbf6>\u001b[0m in \u001b[0;36m<module>\u001b[0;34m()\u001b[0m\n\u001b[1;32m      8\u001b[0m         avg_loss_train, opt_res = sess.run([avg_loss, train_optimizer], feed_dict={input_tensor: events,\n\u001b[1;32m      9\u001b[0m                                              \u001b[0my\u001b[0m\u001b[0;34m:\u001b[0m \u001b[0mlabels\u001b[0m\u001b[0;34m,\u001b[0m\u001b[0;34m\u001b[0m\u001b[0m\n\u001b[0;32m---> 10\u001b[0;31m                                              dropout_keep_prob: 0.5})\n\u001b[0m\u001b[1;32m     11\u001b[0m \u001b[0;34m\u001b[0m\u001b[0m\n\u001b[1;32m     12\u001b[0m     \u001b[0mevents_test\u001b[0m \u001b[0;34m=\u001b[0m \u001b[0msource\u001b[0m\u001b[0;34m.\u001b[0m\u001b[0mtesting\u001b[0m\u001b[0;34m(\u001b[0m\u001b[0;34m)\u001b[0m\u001b[0;34m[\u001b[0m\u001b[0;34m\"events\"\u001b[0m\u001b[0;34m]\u001b[0m\u001b[0;34m[\u001b[0m\u001b[0;36m1\u001b[0m\u001b[0;34m:\u001b[0m\u001b[0;34m(\u001b[0m\u001b[0;36m1\u001b[0m\u001b[0;34m+\u001b[0m\u001b[0mBATCH_SIZE\u001b[0m\u001b[0;34m)\u001b[0m\u001b[0;34m,\u001b[0m\u001b[0;34m:\u001b[0m\u001b[0;34m,\u001b[0m\u001b[0;34m...\u001b[0m\u001b[0;34m,\u001b[0m\u001b[0;34m:\u001b[0m\u001b[0;34m]\u001b[0m \u001b[0;31m# shrink the size to batchsize, otherwise out of resources\u001b[0m\u001b[0;34m\u001b[0m\u001b[0m\n",
      "\u001b[0;32m/home/seven/venv/lib/python3.5/site-packages/tensorflow/python/client/session.py\u001b[0m in \u001b[0;36mrun\u001b[0;34m(self, fetches, feed_dict, options, run_metadata)\u001b[0m\n\u001b[1;32m    715\u001b[0m     \u001b[0;32mtry\u001b[0m\u001b[0;34m:\u001b[0m\u001b[0;34m\u001b[0m\u001b[0m\n\u001b[1;32m    716\u001b[0m       result = self._run(None, fetches, feed_dict, options_ptr,\n\u001b[0;32m--> 717\u001b[0;31m                          run_metadata_ptr)\n\u001b[0m\u001b[1;32m    718\u001b[0m       \u001b[0;32mif\u001b[0m \u001b[0mrun_metadata\u001b[0m\u001b[0;34m:\u001b[0m\u001b[0;34m\u001b[0m\u001b[0m\n\u001b[1;32m    719\u001b[0m         \u001b[0mproto_data\u001b[0m \u001b[0;34m=\u001b[0m \u001b[0mtf_session\u001b[0m\u001b[0;34m.\u001b[0m\u001b[0mTF_GetBuffer\u001b[0m\u001b[0;34m(\u001b[0m\u001b[0mrun_metadata_ptr\u001b[0m\u001b[0;34m)\u001b[0m\u001b[0;34m\u001b[0m\u001b[0m\n",
      "\u001b[0;32m/home/seven/venv/lib/python3.5/site-packages/tensorflow/python/client/session.py\u001b[0m in \u001b[0;36m_run\u001b[0;34m(self, handle, fetches, feed_dict, options, run_metadata)\u001b[0m\n\u001b[1;32m    913\u001b[0m     \u001b[0;32mif\u001b[0m \u001b[0mfinal_fetches\u001b[0m \u001b[0;32mor\u001b[0m \u001b[0mfinal_targets\u001b[0m\u001b[0;34m:\u001b[0m\u001b[0;34m\u001b[0m\u001b[0m\n\u001b[1;32m    914\u001b[0m       results = self._do_run(handle, final_targets, final_fetches,\n\u001b[0;32m--> 915\u001b[0;31m                              feed_dict_string, options, run_metadata)\n\u001b[0m\u001b[1;32m    916\u001b[0m     \u001b[0;32melse\u001b[0m\u001b[0;34m:\u001b[0m\u001b[0;34m\u001b[0m\u001b[0m\n\u001b[1;32m    917\u001b[0m       \u001b[0mresults\u001b[0m \u001b[0;34m=\u001b[0m \u001b[0;34m[\u001b[0m\u001b[0;34m]\u001b[0m\u001b[0;34m\u001b[0m\u001b[0m\n",
      "\u001b[0;32m/home/seven/venv/lib/python3.5/site-packages/tensorflow/python/client/session.py\u001b[0m in \u001b[0;36m_do_run\u001b[0;34m(self, handle, target_list, fetch_list, feed_dict, options, run_metadata)\u001b[0m\n\u001b[1;32m    963\u001b[0m     \u001b[0;32mif\u001b[0m \u001b[0mhandle\u001b[0m \u001b[0;32mis\u001b[0m \u001b[0;32mNone\u001b[0m\u001b[0;34m:\u001b[0m\u001b[0;34m\u001b[0m\u001b[0m\n\u001b[1;32m    964\u001b[0m       return self._do_call(_run_fn, self._session, feed_dict, fetch_list,\n\u001b[0;32m--> 965\u001b[0;31m                            target_list, options, run_metadata)\n\u001b[0m\u001b[1;32m    966\u001b[0m     \u001b[0;32melse\u001b[0m\u001b[0;34m:\u001b[0m\u001b[0;34m\u001b[0m\u001b[0m\n\u001b[1;32m    967\u001b[0m       return self._do_call(_prun_fn, self._session, handle, feed_dict,\n",
      "\u001b[0;32m/home/seven/venv/lib/python3.5/site-packages/tensorflow/python/client/session.py\u001b[0m in \u001b[0;36m_do_call\u001b[0;34m(self, fn, *args)\u001b[0m\n\u001b[1;32m    970\u001b[0m   \u001b[0;32mdef\u001b[0m \u001b[0m_do_call\u001b[0m\u001b[0;34m(\u001b[0m\u001b[0mself\u001b[0m\u001b[0;34m,\u001b[0m \u001b[0mfn\u001b[0m\u001b[0;34m,\u001b[0m \u001b[0;34m*\u001b[0m\u001b[0margs\u001b[0m\u001b[0;34m)\u001b[0m\u001b[0;34m:\u001b[0m\u001b[0;34m\u001b[0m\u001b[0m\n\u001b[1;32m    971\u001b[0m     \u001b[0;32mtry\u001b[0m\u001b[0;34m:\u001b[0m\u001b[0;34m\u001b[0m\u001b[0m\n\u001b[0;32m--> 972\u001b[0;31m       \u001b[0;32mreturn\u001b[0m \u001b[0mfn\u001b[0m\u001b[0;34m(\u001b[0m\u001b[0;34m*\u001b[0m\u001b[0margs\u001b[0m\u001b[0;34m)\u001b[0m\u001b[0;34m\u001b[0m\u001b[0m\n\u001b[0m\u001b[1;32m    973\u001b[0m     \u001b[0;32mexcept\u001b[0m \u001b[0merrors\u001b[0m\u001b[0;34m.\u001b[0m\u001b[0mOpError\u001b[0m \u001b[0;32mas\u001b[0m \u001b[0me\u001b[0m\u001b[0;34m:\u001b[0m\u001b[0;34m\u001b[0m\u001b[0m\n\u001b[1;32m    974\u001b[0m       \u001b[0mmessage\u001b[0m \u001b[0;34m=\u001b[0m \u001b[0mcompat\u001b[0m\u001b[0;34m.\u001b[0m\u001b[0mas_text\u001b[0m\u001b[0;34m(\u001b[0m\u001b[0me\u001b[0m\u001b[0;34m.\u001b[0m\u001b[0mmessage\u001b[0m\u001b[0;34m)\u001b[0m\u001b[0;34m\u001b[0m\u001b[0m\n",
      "\u001b[0;32m/home/seven/venv/lib/python3.5/site-packages/tensorflow/python/client/session.py\u001b[0m in \u001b[0;36m_run_fn\u001b[0;34m(session, feed_dict, fetch_list, target_list, options, run_metadata)\u001b[0m\n\u001b[1;32m    952\u001b[0m         return tf_session.TF_Run(session, options,\n\u001b[1;32m    953\u001b[0m                                  \u001b[0mfeed_dict\u001b[0m\u001b[0;34m,\u001b[0m \u001b[0mfetch_list\u001b[0m\u001b[0;34m,\u001b[0m \u001b[0mtarget_list\u001b[0m\u001b[0;34m,\u001b[0m\u001b[0;34m\u001b[0m\u001b[0m\n\u001b[0;32m--> 954\u001b[0;31m                                  status, run_metadata)\n\u001b[0m\u001b[1;32m    955\u001b[0m \u001b[0;34m\u001b[0m\u001b[0m\n\u001b[1;32m    956\u001b[0m     \u001b[0;32mdef\u001b[0m \u001b[0m_prun_fn\u001b[0m\u001b[0;34m(\u001b[0m\u001b[0msession\u001b[0m\u001b[0;34m,\u001b[0m \u001b[0mhandle\u001b[0m\u001b[0;34m,\u001b[0m \u001b[0mfeed_dict\u001b[0m\u001b[0;34m,\u001b[0m \u001b[0mfetch_list\u001b[0m\u001b[0;34m)\u001b[0m\u001b[0;34m:\u001b[0m\u001b[0;34m\u001b[0m\u001b[0m\n",
      "\u001b[0;31mKeyboardInterrupt\u001b[0m: "
     ]
    }
   ],
   "source": [
    "TRAINING_STEPS = 50\n",
    "#BATCH_SIZE = 50\n",
    "for step in range(TRAINING_STEPS):\n",
    "    for i in range(0, source.num_training - BATCH_SIZE, BATCH_SIZE):\n",
    "        # print(\"training step: {:d}, batch starting index: {:d}\".format(step, i))\n",
    "        events = source.training()[\"events\"][i:(i+BATCH_SIZE),:,...,:]\n",
    "        labels = source.training()[\"labels\"][i:(i+BATCH_SIZE),:]\n",
    "        avg_loss_train, opt_res = sess.run([avg_loss, train_optimizer], feed_dict={input_tensor: events,\n",
    "                                             y: labels,\n",
    "                                             dropout_keep_prob: 0.5})\n",
    "\n",
    "    events_test = source.testing()[\"events\"][1:(1+BATCH_SIZE),:,...,:] # shrink the size to batchsize, otherwise out of resources\n",
    "    labels_test = source.testing()[\"labels\"][1:(1+BATCH_SIZE),:]\n",
    "    avg_loss_test = sess.run(avg_loss, feed_dict={input_tensor: events_test,\n",
    "                                        y: labels_test,\n",
    "                                        dropout_keep_prob: 1.0})\n",
    "    print(\"training step: {:d}, average loss test: {:f}, average loss train: {:f}\".format(step, avg_loss_test, avg_loss_train))\n",
    "    # saver.save(sess, \"models/model.ckpt\")\n",
    "    print(\"model saved\")\n",
    "avg_loss_test"
   ]
  },
  {
   "cell_type": "code",
   "execution_count": null,
   "metadata": {
    "collapsed": false
   },
   "outputs": [],
   "source": [
    "w = sess.run(weight_vars[\"conv1\"].weights)"
   ]
  },
  {
   "cell_type": "code",
   "execution_count": null,
   "metadata": {
    "collapsed": false
   },
   "outputs": [],
   "source": [
    "w.shape"
   ]
  },
  {
   "cell_type": "code",
   "execution_count": null,
   "metadata": {
    "collapsed": false
   },
   "outputs": [],
   "source": [
    "def get_color(data): return cm.coolwarm((data + 0.1) / 0.2)\n",
    "\n",
    "def plot_weights_3d(ax, data): \n",
    "    for z in range(3): \n",
    "        X, Y = np.meshgrid(np.arange(0, 4), np.arange(0, 4)) \n",
    "        Z = z * np.ones_like(X) \n",
    "        ax.plot_surface(X, Y, Z, rstride=1, cstride=1, facecolors=get_color(data[:,:,z]), shade=False)\n",
    "\n",
    "fig = figure() \n",
    "ax = fig.add_subplot(121, projection='3d') \n",
    "plot_weights_3d(ax, w[:,:,:,0,2]) \n",
    "title(\"Negative polarity\") \n",
    "ax = fig.add_subplot(122, projection='3d') \n",
    "plot_weights_3d(ax, w[:,:,:,1,2]) \n",
    "title(\"Positive polarity\")\n"
   ]
  },
  {
   "cell_type": "code",
   "execution_count": null,
   "metadata": {
    "collapsed": false
   },
   "outputs": [],
   "source": [
    "labels_test"
   ]
  },
  {
   "cell_type": "markdown",
   "metadata": {
    "collapsed": false,
    "scrolled": false
   },
   "source": [
    "def get_color(data):\n",
    "    return cm.coolwarm((data + 0.1) / 0.2)\n",
    "\n",
    "\n",
    "def plot_weights_3d(ax, data):\n",
    "    for z in range(3):\n",
    "        X, Y = np.meshgrid(np.arange(0, 4), np.arange(0, 4))\n",
    "        Z = z * np.ones_like(X)\n",
    "        ax.plot_surface(X, Y, Z, rstride=1, cstride=1, facecolors=get_color(data[:,:,z]), shade=False)\n",
    "\n",
    "fig = figure()\n",
    "ax = fig.add_subplot(121, projection='3d')\n",
    "plot_weights_3d(ax, w[:,:,:,0,2])\n",
    "title(\"Negative polarity\")\n",
    "ax = fig.add_subplot(122, projection='3d')\n",
    "plot_weights_3d(ax, w[:,:,:,1,2])\n",
    "title(\"Positive polarity\")"
   ]
  },
  {
   "cell_type": "markdown",
   "metadata": {
    "collapsed": false
   },
   "source": [
    "events_test = source.testing()[\"events\"]\n",
    "labels_test = source.testing()[\"labels\"]\n",
    "# Restore variables from disk.\n",
    "#saver.restore(sess, \"models/model.ckpt\")\n",
    "print(\"Model restored.\")\n",
    "for i in range(300, 310):\n",
    "    predicted = sess.run(out, feed_dict={input_tensor: events_test[i:i+1,:,...,:],\n",
    "                              dropout_keep_prob: 1.0})\n",
    "    expected = labels_test[i,:] * LABEL_SCALE_FACTOR\n",
    "    print(predicted, expected)\n",
    "    \n",
    "    "
   ]
  },
  {
   "cell_type": "code",
   "execution_count": 15,
   "metadata": {
    "collapsed": false
   },
   "outputs": [
    {
     "name": "stdout",
     "output_type": "stream",
     "text": [
      "[[-0.01373429 -0.08557818  0.00990946]] [ 0.03254471 -0.17973549 -0.01043114]\n",
      "[[-0.0092594  -0.09449475  0.01315229]] [-0.03443561 -0.13066569  0.01585138]\n",
      "[[-0.01538954 -0.07466185  0.00981065]] [-0.03000929 -0.11348017  0.02175278]\n",
      "[[-0.00726168 -0.06361941  0.01344946]] [-0.00937349 -0.08947107  0.00872576]\n",
      "[[ 0.02000112  0.06324282  0.01978746]] [ 0.01009532  0.1846905  -0.01796437]\n",
      "[[ 0.02153623  0.08554859  0.03101539]] [ 0.00762053  0.1715054  -0.01500311]\n",
      "[[ 0.02090516  0.09461404  0.02196684]] [ 0.00961326  0.19209786 -0.01129032]\n",
      "[[ 0.01245524  0.11859871  0.00432916]] [-0.02017883  0.20260449 -0.03535776]\n",
      "[[ 0.00809861  0.14638945  0.02750075]] [-0.02410606  0.21354284 -0.03364459]\n"
     ]
    }
   ],
   "source": [
    "for i in range(1, 10):\n",
    "    predicted = sess.run(out, feed_dict={input_tensor: events_test[i:i+1,:,...,:],\n",
    "                              dropout_keep_prob: 1.0})\n",
    "    expected = labels_test[i,:] * LABEL_SCALE_FACTOR\n",
    "    print(predicted, expected)\n",
    "    \n",
    "    \n",
    "\n"
   ]
  },
  {
   "cell_type": "code",
   "execution_count": 17,
   "metadata": {
    "collapsed": false
   },
   "outputs": [
    {
     "name": "stdout",
     "output_type": "stream",
     "text": [
      "[-0.05822946  0.45108868 -0.07736137] [ 0.03735141  0.19003931  0.15092155]\n"
     ]
    }
   ],
   "source": [
    "# Evaluate some of the trajectory\n",
    "predicted = sess.run(out, feed_dict={input_tensor: events_test[1:10,:,...,:],\n",
    "                              dropout_keep_prob: 1.0})\n",
    "expected = labels_test[1:10,:] * LABEL_SCALE_FACTOR\n",
    "print(np.sum(expected, axis=0), np.sum(predicted, axis=0))"
   ]
  },
  {
   "cell_type": "code",
   "execution_count": null,
   "metadata": {
    "collapsed": true
   },
   "outputs": [],
   "source": []
  }
 ],
 "metadata": {
  "kernelspec": {
   "display_name": "Python 3",
   "language": "python",
   "name": "python3"
  },
  "language_info": {
   "codemirror_mode": {
    "name": "ipython",
    "version": 3
   },
   "file_extension": ".py",
   "mimetype": "text/x-python",
   "name": "python",
   "nbconvert_exporter": "python",
   "pygments_lexer": "ipython3",
   "version": "3.5.2"
  }
 },
 "nbformat": 4,
 "nbformat_minor": 1
}
