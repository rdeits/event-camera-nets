{
 "cells": [
  {
   "cell_type": "code",
   "execution_count": 1,
   "metadata": {
    "collapsed": false
   },
   "outputs": [],
   "source": [
    "import numpy as np\n",
    "import time\n",
    "import tensorflow as tf"
   ]
  },
  {
   "cell_type": "code",
   "execution_count": 2,
   "metadata": {
    "collapsed": true
   },
   "outputs": [],
   "source": [
    "from eventcnn.datasources.davis import DavisDataset\n",
    "from eventcnn.datasources.eventsource import EventSource, CachedDenseEventSource"
   ]
  },
  {
   "cell_type": "code",
   "execution_count": 3,
   "metadata": {
    "collapsed": true
   },
   "outputs": [],
   "source": [
    "source = CachedDenseEventSource(\"data/dense\")"
   ]
  },
  {
   "cell_type": "code",
   "execution_count": 9,
   "metadata": {
    "collapsed": false
   },
   "outputs": [],
   "source": [
    "N_EVENT_SLICES = source.event_slices\n",
    "BATCH_SIZE = 5\n",
    "N_EVENT_ROWS = source.rows\n",
    "N_EVENT_COLS = source.cols"
   ]
  },
  {
   "cell_type": "code",
   "execution_count": 5,
   "metadata": {
    "collapsed": true
   },
   "outputs": [],
   "source": [
    "# Copied from the tensorflow tutorial in class\n",
    "def init_weights(shape):\n",
    "    return tf.Variable(tf.random_normal(shape, stddev=0.01))\n",
    "\n",
    "def init_bias(shape):\n",
    "    return tf.Variable(tf.zeros(shape))"
   ]
  },
  {
   "cell_type": "code",
   "execution_count": 6,
   "metadata": {
    "collapsed": false
   },
   "outputs": [],
   "source": [
    "def n_output_channels(layer):\n",
    "    return layer.get_shape()[-1].value\n",
    "\n",
    "def n_outputs(layer):\n",
    "    out = layer.get_shape()[1].value\n",
    "    for d in layer.get_shape()[2:]:\n",
    "        out *= d.value\n",
    "    return out\n"
   ]
  },
  {
   "cell_type": "code",
   "execution_count": 7,
   "metadata": {
    "collapsed": false
   },
   "outputs": [],
   "source": [
    "input_tensor = tf.placeholder(tf.float32, [None, \n",
    "                                           N_EVENT_COLS, \n",
    "                                           N_EVENT_ROWS, \n",
    "                                           N_EVENT_SLICES, \n",
    "                                           2])\n",
    "dropout_keep_prob = tf.placeholder(tf.float32)\n",
    "\n",
    "conv1 = tf.nn.conv3d(input_tensor, init_weights([3,3,2,2,6]), \n",
    "                     strides=[1,1,1,1,1], padding='SAME')\n",
    "conv1 = tf.nn.relu(tf.nn.bias_add(conv1, init_bias(n_output_channels(conv1))))\n",
    "pool1 = tf.nn.max_pool3d(conv1, ksize=[1, 2, 2, 2, 1], \n",
    "                         strides=[1, 2, 2, 2, 1], padding=\"SAME\")\n",
    "\n",
    "conv2 = tf.nn.conv3d(pool1, \n",
    "                     init_weights([3,3,2, n_output_channels(pool1),6]), \n",
    "                     strides=[1, 1, 1, 1, 1], padding=\"SAME\")\n",
    "conv2 = tf.nn.relu(tf.nn.bias_add(conv2, init_bias(n_output_channels(conv2))))\n",
    "pool2 = tf.nn.max_pool3d(conv1, ksize=[1, 2, 2, 2, 1], strides=[1, 2, 2, 2, 1], padding=\"SAME\")\n",
    "\n",
    "fc3 = tf.reshape(pool2, [-1, n_outputs(pool2)])\n",
    "fc3 = tf.add(tf.matmul(fc3, init_weights([n_outputs(pool2), 32])), init_bias(32))\n",
    "fc3 = tf.nn.relu(fc3)\n",
    "fc3 = tf.nn.dropout(fc3, dropout_keep_prob)\n",
    "\n",
    "out = tf.add(tf.matmul(fc3, init_weights([n_outputs(fc3), 3])), init_bias(3))\n",
    "\n",
    "y = tf.placeholder(tf.float32, [None, 3])\n",
    "\n",
    "loss = tf.nn.l2_loss(tf.sub(out, y))\n",
    "avg_loss = tf.reduce_mean(loss)\n",
    "train_optimizer = tf.train.AdamOptimizer(learning_rate=0.001).minimize(loss)\n",
    "\n",
    "init = tf.initialize_all_variables()"
   ]
  },
  {
   "cell_type": "code",
   "execution_count": null,
   "metadata": {
    "collapsed": false,
    "scrolled": false
   },
   "outputs": [
    {
     "name": "stdout",
     "output_type": "stream",
     "text": [
      "0 0\n",
      "0 5\n",
      "0 10\n",
      "0 15\n",
      "0 20\n",
      "0 25\n",
      "0 30\n",
      "0 35\n",
      "0 40\n",
      "0 45\n",
      "0 50\n",
      "0 55\n",
      "0 60\n",
      "0 65\n",
      "0 70\n",
      "0 75\n",
      "0 80\n",
      "0 85\n",
      "0 90\n",
      "0 95\n",
      "0 100\n",
      "0 105\n",
      "0 110\n",
      "0 115\n",
      "0 120\n",
      "0 125\n",
      "0 130\n",
      "0 135\n",
      "0 140\n",
      "0 145\n",
      "0 150\n",
      "0 155\n",
      "0 160\n",
      "0 165\n",
      "0 170\n",
      "0 175\n",
      "0 180\n",
      "0 185\n",
      "0 190\n",
      "0 195\n",
      "0 200\n",
      "0 205\n",
      "0 210\n",
      "0 215\n",
      "0 220\n",
      "0 225\n",
      "0 230\n",
      "0 235\n",
      "0 240\n",
      "0 245\n"
     ]
    }
   ],
   "source": [
    "TRAINING_STEPS = 10\n",
    "\n",
    "sess = tf.Session()\n",
    "sess.run(init)\n",
    "\n",
    "for step in range(TRAINING_STEPS):\n",
    "    for i in range(0, source.num_training - BATCH_SIZE, BATCH_SIZE):\n",
    "        print(step, i)\n",
    "        events = source.training()[\"events\"][i:(i+BATCH_SIZE),:,...,:]\n",
    "        labels = source.training()[\"labels\"][i:(i+BATCH_SIZE),:]\n",
    "        sess.run(train_optimizer, feed_dict={input_tensor: events,\n",
    "                                             y: labels,\n",
    "                                             dropout_keep_prob: 0.5})\n",
    "\n",
    "    events_test = source.testing()[\"events\"]\n",
    "    labels_test = source.testing()[\"labels\"]\n",
    "    avg = sess.run(avg_loss, feed_dict={input_tensor: events_test,\n",
    "                                        y: labels_test,\n",
    "                                        dropout_keep_prob: 1.0})\n",
    "    print(\"avg:\", avg)\n",
    "avg"
   ]
  },
  {
   "cell_type": "code",
   "execution_count": null,
   "metadata": {
    "collapsed": true
   },
   "outputs": [],
   "source": []
  }
 ],
 "metadata": {
  "kernelspec": {
   "display_name": "Python 3",
   "language": "python",
   "name": "python3"
  },
  "language_info": {
   "codemirror_mode": {
    "name": "ipython",
    "version": 3
   },
   "file_extension": ".py",
   "mimetype": "text/x-python",
   "name": "python",
   "nbconvert_exporter": "python",
   "pygments_lexer": "ipython3",
   "version": "3.5.0"
  }
 },
 "nbformat": 4,
 "nbformat_minor": 1
}
