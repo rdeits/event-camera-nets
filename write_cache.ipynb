{
 "cells": [
  {
   "cell_type": "code",
   "execution_count": 1,
   "metadata": {
    "collapsed": true
   },
   "outputs": [],
   "source": [
    "%load_ext autoreload\n",
    "%autoreload 2"
   ]
  },
  {
   "cell_type": "code",
   "execution_count": 2,
   "metadata": {
    "collapsed": false
   },
   "outputs": [],
   "source": [
    "import tensorflow as tf\n",
    "import numpy as np\n",
    "import time\n",
    "import h5py"
   ]
  },
  {
   "cell_type": "code",
   "execution_count": 3,
   "metadata": {
    "collapsed": false
   },
   "outputs": [],
   "source": [
    "from eventcnn.datasources.davis import DavisDataset\n",
    "from eventcnn.datasources.eventsource import EventSource"
   ]
  },
  {
   "cell_type": "code",
   "execution_count": 4,
   "metadata": {
    "collapsed": false
   },
   "outputs": [],
   "source": [
    "dataset1 = DavisDataset.named_dataset(\"poster_translation\")\n",
    "dataset2 = DavisDataset.named_dataset(\"shapes_translation\")"
   ]
  },
  {
   "cell_type": "code",
   "execution_count": 5,
   "metadata": {
    "collapsed": false
   },
   "outputs": [
    {
     "name": "stdout",
     "output_type": "stream",
     "text": [
      "100030758\n",
      "1100 187\n"
     ]
    }
   ],
   "source": [
    "source1 = EventSource(dataset1, \n",
    "                      testing_fraction=0.2,\n",
    "                      validation_fraction=0.2,\n",
    "                      events_per_block=50000)\n",
    "source2 = EventSource(dataset2, \n",
    "                      testing_fraction=0.2,\n",
    "                      validation_fraction=0.2,\n",
    "                      events_per_block=50000)\n",
    "print(source1.dataset.num_events)\n",
    "print(source1.num_training, source2.num_training)"
   ]
  },
  {
   "cell_type": "code",
   "execution_count": 6,
   "metadata": {
    "collapsed": false,
    "scrolled": true
   },
   "outputs": [
    {
     "name": "stdout",
     "output_type": "stream",
     "text": [
      "training 100\n",
      "training 200\n",
      "training 300\n",
      "training 400\n",
      "training 500\n",
      "training 600\n",
      "training 700\n",
      "training 800\n",
      "training 900\n",
      "training 1000\n",
      "training 1100\n",
      "validation 100\n",
      "validation 200\n",
      "validation 300\n",
      "testing 100\n",
      "testing 200\n",
      "testing 300\n"
     ]
    }
   ],
   "source": [
    "cache_folder = \"data/dense\"\n",
    "cache = source1.cache_dense_events(cache_folder, n_layers=10, scaling=1)"
   ]
  },
  {
   "cell_type": "code",
   "execution_count": 8,
   "metadata": {
    "collapsed": false
   },
   "outputs": [
    {
     "data": {
      "text/plain": [
       "[5.7360239999999996, 5.774235]"
      ]
     },
     "execution_count": 8,
     "metadata": {},
     "output_type": "execute_result"
    }
   ],
   "source": [
    "source1.training().__next__().time_span"
   ]
  },
  {
   "cell_type": "code",
   "execution_count": null,
   "metadata": {
    "collapsed": true
   },
   "outputs": [],
   "source": []
  }
 ],
 "metadata": {
  "kernelspec": {
   "display_name": "Python 3",
   "language": "python",
   "name": "python3"
  },
  "language_info": {
   "codemirror_mode": {
    "name": "ipython",
    "version": 3
   },
   "file_extension": ".py",
   "mimetype": "text/x-python",
   "name": "python",
   "nbconvert_exporter": "python",
   "pygments_lexer": "ipython3",
   "version": "3.5.2"
  }
 },
 "nbformat": 4,
 "nbformat_minor": 2
}
