{
 "cells": [
  {
   "cell_type": "code",
   "execution_count": 1,
   "metadata": {
    "collapsed": true
   },
   "outputs": [],
   "source": [
    "%load_ext autoreload\n",
    "%autoreload 2"
   ]
  },
  {
   "cell_type": "code",
   "execution_count": 5,
   "metadata": {
    "collapsed": true
   },
   "outputs": [],
   "source": [
    "import tensorflow as tf\n",
    "import numpy as np\n",
    "import json"
   ]
  },
  {
   "cell_type": "code",
   "execution_count": 3,
   "metadata": {
    "collapsed": true
   },
   "outputs": [],
   "source": [
    "from eventcnn.datasources.davis import DavisDataset\n",
    "from eventcnn.datasources.eventsource import EventSource"
   ]
  },
  {
   "cell_type": "code",
   "execution_count": 4,
   "metadata": {
    "collapsed": true
   },
   "outputs": [],
   "source": [
    "# Taken mostly from \n",
    "# https://indico.io/blog/tensorflow-data-inputs-part1-placeholders-protobufs-queues/\n",
    "def read_and_decode_single_example(filename, metadata):\n",
    "    filename_queue = tf.train.string_input_producer([filename], \n",
    "                                                    num_epochs=None)\n",
    "    reader = tf.TFRecordReader()\n",
    "    _, serialized_example = reader.read(filename_queue)\n",
    "    features = tf.parse_single_example(\n",
    "        serialized_example,\n",
    "        features={\n",
    "            'label': tf.FixedLenFeature([3], tf.float32),\n",
    "            'events': tf.FixedLenFeature(\n",
    "                [metadata[\"cols\"], \n",
    "                 metadata[\"rows\"], \n",
    "                 metadata[\"event_layers\"],\n",
    "                 metadata[\"channels\"]], tf.int64)\n",
    "        })\n",
    "    label = features['label']\n",
    "    events = features['events']\n",
    "    return label, events"
   ]
  },
  {
   "cell_type": "code",
   "execution_count": 16,
   "metadata": {
    "collapsed": false
   },
   "outputs": [],
   "source": [
    "metadata = json.load(open(\"records/metadata.json\"))\n",
    "label, events = read_and_decode_single_example(\"records/training.tfrecords\",\n",
    "                                               metadata)\n",
    "\n",
    "label_batch, events_batch = tf.train.shuffle_batch(\n",
    "    [label, events], batch_size=3,\n",
    "    capacity=9,\n",
    "    min_after_dequeue=6)"
   ]
  },
  {
   "cell_type": "code",
   "execution_count": 17,
   "metadata": {
    "collapsed": false
   },
   "outputs": [
    {
     "data": {
      "text/plain": [
       "[<Thread(Thread-8, started daemon 123145366233088)>,\n",
       " <Thread(Thread-9, started daemon 123145371488256)>]"
      ]
     },
     "execution_count": 17,
     "metadata": {},
     "output_type": "execute_result"
    }
   ],
   "source": [
    "sess = tf.Session()\n",
    "\n",
    "init = tf.initialize_all_variables()\n",
    "sess.run(init)\n",
    "tf.train.start_queue_runners(sess=sess)"
   ]
  },
  {
   "cell_type": "code",
   "execution_count": 18,
   "metadata": {
    "collapsed": false
   },
   "outputs": [],
   "source": [
    "l1, e1 = sess.run([label_batch, events_batch])"
   ]
  },
  {
   "cell_type": "code",
   "execution_count": 19,
   "metadata": {
    "collapsed": false
   },
   "outputs": [
    {
     "data": {
      "text/plain": [
       "array([[ -2.13636784e-04,  -3.99345881e-05,   2.04206823e-04],\n",
       "       [ -1.61422984e-04,   9.65436193e-05,   7.14321095e-06],\n",
       "       [ -1.84619275e-04,  -1.09350593e-04,   1.32923815e-04]], dtype=float32)"
      ]
     },
     "execution_count": 19,
     "metadata": {},
     "output_type": "execute_result"
    }
   ],
   "source": [
    "l1"
   ]
  },
  {
   "cell_type": "code",
   "execution_count": 20,
   "metadata": {
    "collapsed": false
   },
   "outputs": [
    {
     "data": {
      "text/plain": [
       "(3, 120, 90, 4, 2)"
      ]
     },
     "execution_count": 20,
     "metadata": {},
     "output_type": "execute_result"
    }
   ],
   "source": [
    "e1.shape"
   ]
  },
  {
   "cell_type": "code",
   "execution_count": null,
   "metadata": {
    "collapsed": true
   },
   "outputs": [],
   "source": []
  }
 ],
 "metadata": {
  "kernelspec": {
   "display_name": "Python 3",
   "language": "python",
   "name": "python3"
  },
  "language_info": {
   "codemirror_mode": {
    "name": "ipython",
    "version": 3
   },
   "file_extension": ".py",
   "mimetype": "text/x-python",
   "name": "python",
   "nbconvert_exporter": "python",
   "pygments_lexer": "ipython3",
   "version": "3.5.0"
  }
 },
 "nbformat": 4,
 "nbformat_minor": 2
}
