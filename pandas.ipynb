{
 "cells": [
  {
   "cell_type": "code",
   "execution_count": 61,
   "metadata": {
    "collapsed": false
   },
   "outputs": [
    {
     "name": "stdout",
     "output_type": "stream",
     "text": [
      "Populating the interactive namespace from numpy and matplotlib\n"
     ]
    },
    {
     "name": "stderr",
     "output_type": "stream",
     "text": [
      "/usr/local/lib/python3.5/site-packages/IPython/core/magics/pylab.py:161: UserWarning: pylab import has clobbered these variables: ['table', 'record']\n",
      "`%matplotlib` prevents importing * from pylab and numpy\n",
      "  \"\\n`%matplotlib` prevents importing * from pylab and numpy\"\n"
     ]
    }
   ],
   "source": [
    "import pandas as pd\n",
    "import tables\n",
    "import numpy as np"
   ]
  },
  {
   "cell_type": "code",
   "execution_count": null,
   "metadata": {
    "collapsed": true
   },
   "outputs": [],
   "source": [
    "%pylab inline"
   ]
  },
  {
   "cell_type": "code",
   "execution_count": 62,
   "metadata": {
    "collapsed": true
   },
   "outputs": [],
   "source": [
    "groundtruth = pd.read_csv(\"data/davis/poster_translation/groundtruth.txt\",\n",
    "                         sep=\" \",\n",
    "                         header=None,\n",
    "                         names=[\"time\", \"px\", \"py\", \"pz\", \"qx\", \"qy\", \"qz\", \"qw\"])"
   ]
  },
  {
   "cell_type": "code",
   "execution_count": 63,
   "metadata": {
    "collapsed": true
   },
   "outputs": [],
   "source": [
    "events = pd.read_csv(\"data/davis/poster_translation/events.txt\",\n",
    "                    sep=\" \",\n",
    "                    header=None,\n",
    "                    dtype={\"time\": np.float64,\n",
    "                           \"x\": np.uint8,\n",
    "                           \"y\": np.uint8,\n",
    "                           \"polarity\": np.bool},\n",
    "                    names=[\"time\", \"x\", \"y\", \"polarity\"])"
   ]
  },
  {
   "cell_type": "code",
   "execution_count": 64,
   "metadata": {
    "collapsed": false
   },
   "outputs": [],
   "source": [
    "with pd.HDFStore(\"data/davis/poster_translation_pandas.h5\") as store:\n",
    "    store.append(\"ground_truth\", groundtruth, format=\"table\",\n",
    "                data_columns=True)\n",
    "    store.append(\"events\", events, format=\"table\",\n",
    "                data_columns=True)"
   ]
  },
  {
   "cell_type": "code",
   "execution_count": 69,
   "metadata": {
    "collapsed": true
   },
   "outputs": [],
   "source": [
    "with pd.HDFStore(\"data/davis/poster_translation_pandas.h5\") as store:\n",
    "    df = store.select(\"events\", \"index > 10000000 & index < 10002000\")"
   ]
  },
  {
   "cell_type": "code",
   "execution_count": 70,
   "metadata": {
    "collapsed": false
   },
   "outputs": [
    {
     "data": {
      "text/html": [
       "<div>\n",
       "<table border=\"1\" class=\"dataframe\">\n",
       "  <thead>\n",
       "    <tr style=\"text-align: right;\">\n",
       "      <th></th>\n",
       "      <th>time</th>\n",
       "      <th>x</th>\n",
       "      <th>y</th>\n",
       "      <th>polarity</th>\n",
       "    </tr>\n",
       "  </thead>\n",
       "  <tbody>\n",
       "    <tr>\n",
       "      <th>10000001</th>\n",
       "      <td>11.358060</td>\n",
       "      <td>176</td>\n",
       "      <td>111</td>\n",
       "      <td>True</td>\n",
       "    </tr>\n",
       "    <tr>\n",
       "      <th>10000002</th>\n",
       "      <td>11.358061</td>\n",
       "      <td>198</td>\n",
       "      <td>136</td>\n",
       "      <td>True</td>\n",
       "    </tr>\n",
       "    <tr>\n",
       "      <th>10000003</th>\n",
       "      <td>11.358061</td>\n",
       "      <td>32</td>\n",
       "      <td>98</td>\n",
       "      <td>False</td>\n",
       "    </tr>\n",
       "    <tr>\n",
       "      <th>10000004</th>\n",
       "      <td>11.358061</td>\n",
       "      <td>159</td>\n",
       "      <td>98</td>\n",
       "      <td>True</td>\n",
       "    </tr>\n",
       "    <tr>\n",
       "      <th>10000005</th>\n",
       "      <td>11.358061</td>\n",
       "      <td>141</td>\n",
       "      <td>98</td>\n",
       "      <td>True</td>\n",
       "    </tr>\n",
       "    <tr>\n",
       "      <th>10000006</th>\n",
       "      <td>11.358062</td>\n",
       "      <td>229</td>\n",
       "      <td>163</td>\n",
       "      <td>True</td>\n",
       "    </tr>\n",
       "    <tr>\n",
       "      <th>10000007</th>\n",
       "      <td>11.358064</td>\n",
       "      <td>23</td>\n",
       "      <td>78</td>\n",
       "      <td>True</td>\n",
       "    </tr>\n",
       "    <tr>\n",
       "      <th>10000008</th>\n",
       "      <td>11.358069</td>\n",
       "      <td>110</td>\n",
       "      <td>116</td>\n",
       "      <td>True</td>\n",
       "    </tr>\n",
       "    <tr>\n",
       "      <th>10000009</th>\n",
       "      <td>11.358069</td>\n",
       "      <td>44</td>\n",
       "      <td>122</td>\n",
       "      <td>False</td>\n",
       "    </tr>\n",
       "    <tr>\n",
       "      <th>10000010</th>\n",
       "      <td>11.358070</td>\n",
       "      <td>10</td>\n",
       "      <td>140</td>\n",
       "      <td>False</td>\n",
       "    </tr>\n",
       "    <tr>\n",
       "      <th>10000011</th>\n",
       "      <td>11.358070</td>\n",
       "      <td>41</td>\n",
       "      <td>46</td>\n",
       "      <td>False</td>\n",
       "    </tr>\n",
       "    <tr>\n",
       "      <th>10000012</th>\n",
       "      <td>11.358074</td>\n",
       "      <td>53</td>\n",
       "      <td>98</td>\n",
       "      <td>True</td>\n",
       "    </tr>\n",
       "    <tr>\n",
       "      <th>10000013</th>\n",
       "      <td>11.358075</td>\n",
       "      <td>187</td>\n",
       "      <td>88</td>\n",
       "      <td>False</td>\n",
       "    </tr>\n",
       "    <tr>\n",
       "      <th>10000014</th>\n",
       "      <td>11.358076</td>\n",
       "      <td>106</td>\n",
       "      <td>109</td>\n",
       "      <td>False</td>\n",
       "    </tr>\n",
       "    <tr>\n",
       "      <th>10000015</th>\n",
       "      <td>11.358076</td>\n",
       "      <td>218</td>\n",
       "      <td>35</td>\n",
       "      <td>False</td>\n",
       "    </tr>\n",
       "    <tr>\n",
       "      <th>10000016</th>\n",
       "      <td>11.358077</td>\n",
       "      <td>22</td>\n",
       "      <td>47</td>\n",
       "      <td>False</td>\n",
       "    </tr>\n",
       "    <tr>\n",
       "      <th>10000017</th>\n",
       "      <td>11.358078</td>\n",
       "      <td>131</td>\n",
       "      <td>97</td>\n",
       "      <td>True</td>\n",
       "    </tr>\n",
       "    <tr>\n",
       "      <th>10000018</th>\n",
       "      <td>11.358080</td>\n",
       "      <td>22</td>\n",
       "      <td>30</td>\n",
       "      <td>False</td>\n",
       "    </tr>\n",
       "    <tr>\n",
       "      <th>10000019</th>\n",
       "      <td>11.358084</td>\n",
       "      <td>216</td>\n",
       "      <td>100</td>\n",
       "      <td>True</td>\n",
       "    </tr>\n",
       "    <tr>\n",
       "      <th>10000020</th>\n",
       "      <td>11.358085</td>\n",
       "      <td>32</td>\n",
       "      <td>28</td>\n",
       "      <td>False</td>\n",
       "    </tr>\n",
       "    <tr>\n",
       "      <th>10000021</th>\n",
       "      <td>11.358085</td>\n",
       "      <td>211</td>\n",
       "      <td>127</td>\n",
       "      <td>False</td>\n",
       "    </tr>\n",
       "    <tr>\n",
       "      <th>10000022</th>\n",
       "      <td>11.358086</td>\n",
       "      <td>182</td>\n",
       "      <td>132</td>\n",
       "      <td>False</td>\n",
       "    </tr>\n",
       "    <tr>\n",
       "      <th>10000023</th>\n",
       "      <td>11.358087</td>\n",
       "      <td>235</td>\n",
       "      <td>164</td>\n",
       "      <td>False</td>\n",
       "    </tr>\n",
       "    <tr>\n",
       "      <th>10000024</th>\n",
       "      <td>11.358087</td>\n",
       "      <td>144</td>\n",
       "      <td>42</td>\n",
       "      <td>False</td>\n",
       "    </tr>\n",
       "    <tr>\n",
       "      <th>10000025</th>\n",
       "      <td>11.358091</td>\n",
       "      <td>210</td>\n",
       "      <td>153</td>\n",
       "      <td>False</td>\n",
       "    </tr>\n",
       "    <tr>\n",
       "      <th>10000026</th>\n",
       "      <td>11.358091</td>\n",
       "      <td>218</td>\n",
       "      <td>47</td>\n",
       "      <td>False</td>\n",
       "    </tr>\n",
       "    <tr>\n",
       "      <th>10000027</th>\n",
       "      <td>11.358092</td>\n",
       "      <td>193</td>\n",
       "      <td>149</td>\n",
       "      <td>False</td>\n",
       "    </tr>\n",
       "    <tr>\n",
       "      <th>10000028</th>\n",
       "      <td>11.358092</td>\n",
       "      <td>77</td>\n",
       "      <td>123</td>\n",
       "      <td>False</td>\n",
       "    </tr>\n",
       "    <tr>\n",
       "      <th>10000029</th>\n",
       "      <td>11.358093</td>\n",
       "      <td>186</td>\n",
       "      <td>52</td>\n",
       "      <td>False</td>\n",
       "    </tr>\n",
       "    <tr>\n",
       "      <th>10000030</th>\n",
       "      <td>11.358093</td>\n",
       "      <td>24</td>\n",
       "      <td>33</td>\n",
       "      <td>False</td>\n",
       "    </tr>\n",
       "    <tr>\n",
       "      <th>...</th>\n",
       "      <td>...</td>\n",
       "      <td>...</td>\n",
       "      <td>...</td>\n",
       "      <td>...</td>\n",
       "    </tr>\n",
       "    <tr>\n",
       "      <th>10001970</th>\n",
       "      <td>11.359737</td>\n",
       "      <td>123</td>\n",
       "      <td>97</td>\n",
       "      <td>True</td>\n",
       "    </tr>\n",
       "    <tr>\n",
       "      <th>10001971</th>\n",
       "      <td>11.359738</td>\n",
       "      <td>193</td>\n",
       "      <td>164</td>\n",
       "      <td>False</td>\n",
       "    </tr>\n",
       "    <tr>\n",
       "      <th>10001972</th>\n",
       "      <td>11.359739</td>\n",
       "      <td>211</td>\n",
       "      <td>153</td>\n",
       "      <td>False</td>\n",
       "    </tr>\n",
       "    <tr>\n",
       "      <th>10001973</th>\n",
       "      <td>11.359741</td>\n",
       "      <td>126</td>\n",
       "      <td>46</td>\n",
       "      <td>True</td>\n",
       "    </tr>\n",
       "    <tr>\n",
       "      <th>10001974</th>\n",
       "      <td>11.359744</td>\n",
       "      <td>90</td>\n",
       "      <td>127</td>\n",
       "      <td>True</td>\n",
       "    </tr>\n",
       "    <tr>\n",
       "      <th>10001975</th>\n",
       "      <td>11.359747</td>\n",
       "      <td>186</td>\n",
       "      <td>131</td>\n",
       "      <td>False</td>\n",
       "    </tr>\n",
       "    <tr>\n",
       "      <th>10001976</th>\n",
       "      <td>11.359748</td>\n",
       "      <td>195</td>\n",
       "      <td>43</td>\n",
       "      <td>False</td>\n",
       "    </tr>\n",
       "    <tr>\n",
       "      <th>10001977</th>\n",
       "      <td>11.359749</td>\n",
       "      <td>184</td>\n",
       "      <td>56</td>\n",
       "      <td>False</td>\n",
       "    </tr>\n",
       "    <tr>\n",
       "      <th>10001978</th>\n",
       "      <td>11.359750</td>\n",
       "      <td>206</td>\n",
       "      <td>153</td>\n",
       "      <td>False</td>\n",
       "    </tr>\n",
       "    <tr>\n",
       "      <th>10001979</th>\n",
       "      <td>11.359750</td>\n",
       "      <td>145</td>\n",
       "      <td>55</td>\n",
       "      <td>False</td>\n",
       "    </tr>\n",
       "    <tr>\n",
       "      <th>10001980</th>\n",
       "      <td>11.359750</td>\n",
       "      <td>236</td>\n",
       "      <td>118</td>\n",
       "      <td>False</td>\n",
       "    </tr>\n",
       "    <tr>\n",
       "      <th>10001981</th>\n",
       "      <td>11.359751</td>\n",
       "      <td>228</td>\n",
       "      <td>128</td>\n",
       "      <td>True</td>\n",
       "    </tr>\n",
       "    <tr>\n",
       "      <th>10001982</th>\n",
       "      <td>11.359751</td>\n",
       "      <td>65</td>\n",
       "      <td>101</td>\n",
       "      <td>False</td>\n",
       "    </tr>\n",
       "    <tr>\n",
       "      <th>10001983</th>\n",
       "      <td>11.359752</td>\n",
       "      <td>163</td>\n",
       "      <td>175</td>\n",
       "      <td>False</td>\n",
       "    </tr>\n",
       "    <tr>\n",
       "      <th>10001984</th>\n",
       "      <td>11.359752</td>\n",
       "      <td>239</td>\n",
       "      <td>112</td>\n",
       "      <td>False</td>\n",
       "    </tr>\n",
       "    <tr>\n",
       "      <th>10001985</th>\n",
       "      <td>11.359754</td>\n",
       "      <td>226</td>\n",
       "      <td>154</td>\n",
       "      <td>False</td>\n",
       "    </tr>\n",
       "    <tr>\n",
       "      <th>10001986</th>\n",
       "      <td>11.359755</td>\n",
       "      <td>102</td>\n",
       "      <td>104</td>\n",
       "      <td>True</td>\n",
       "    </tr>\n",
       "    <tr>\n",
       "      <th>10001987</th>\n",
       "      <td>11.359756</td>\n",
       "      <td>217</td>\n",
       "      <td>49</td>\n",
       "      <td>False</td>\n",
       "    </tr>\n",
       "    <tr>\n",
       "      <th>10001988</th>\n",
       "      <td>11.359760</td>\n",
       "      <td>218</td>\n",
       "      <td>40</td>\n",
       "      <td>True</td>\n",
       "    </tr>\n",
       "    <tr>\n",
       "      <th>10001989</th>\n",
       "      <td>11.359760</td>\n",
       "      <td>2</td>\n",
       "      <td>154</td>\n",
       "      <td>True</td>\n",
       "    </tr>\n",
       "    <tr>\n",
       "      <th>10001990</th>\n",
       "      <td>11.359762</td>\n",
       "      <td>66</td>\n",
       "      <td>128</td>\n",
       "      <td>False</td>\n",
       "    </tr>\n",
       "    <tr>\n",
       "      <th>10001991</th>\n",
       "      <td>11.359763</td>\n",
       "      <td>125</td>\n",
       "      <td>179</td>\n",
       "      <td>False</td>\n",
       "    </tr>\n",
       "    <tr>\n",
       "      <th>10001992</th>\n",
       "      <td>11.359763</td>\n",
       "      <td>191</td>\n",
       "      <td>84</td>\n",
       "      <td>False</td>\n",
       "    </tr>\n",
       "    <tr>\n",
       "      <th>10001993</th>\n",
       "      <td>11.359763</td>\n",
       "      <td>152</td>\n",
       "      <td>67</td>\n",
       "      <td>False</td>\n",
       "    </tr>\n",
       "    <tr>\n",
       "      <th>10001994</th>\n",
       "      <td>11.359764</td>\n",
       "      <td>212</td>\n",
       "      <td>58</td>\n",
       "      <td>True</td>\n",
       "    </tr>\n",
       "    <tr>\n",
       "      <th>10001995</th>\n",
       "      <td>11.359765</td>\n",
       "      <td>94</td>\n",
       "      <td>38</td>\n",
       "      <td>False</td>\n",
       "    </tr>\n",
       "    <tr>\n",
       "      <th>10001996</th>\n",
       "      <td>11.359765</td>\n",
       "      <td>188</td>\n",
       "      <td>50</td>\n",
       "      <td>True</td>\n",
       "    </tr>\n",
       "    <tr>\n",
       "      <th>10001997</th>\n",
       "      <td>11.359765</td>\n",
       "      <td>161</td>\n",
       "      <td>55</td>\n",
       "      <td>True</td>\n",
       "    </tr>\n",
       "    <tr>\n",
       "      <th>10001998</th>\n",
       "      <td>11.359766</td>\n",
       "      <td>214</td>\n",
       "      <td>110</td>\n",
       "      <td>False</td>\n",
       "    </tr>\n",
       "    <tr>\n",
       "      <th>10001999</th>\n",
       "      <td>11.359766</td>\n",
       "      <td>198</td>\n",
       "      <td>150</td>\n",
       "      <td>False</td>\n",
       "    </tr>\n",
       "  </tbody>\n",
       "</table>\n",
       "<p>1999 rows × 4 columns</p>\n",
       "</div>"
      ],
      "text/plain": [
       "               time    x    y polarity\n",
       "10000001  11.358060  176  111     True\n",
       "10000002  11.358061  198  136     True\n",
       "10000003  11.358061   32   98    False\n",
       "10000004  11.358061  159   98     True\n",
       "10000005  11.358061  141   98     True\n",
       "10000006  11.358062  229  163     True\n",
       "10000007  11.358064   23   78     True\n",
       "10000008  11.358069  110  116     True\n",
       "10000009  11.358069   44  122    False\n",
       "10000010  11.358070   10  140    False\n",
       "10000011  11.358070   41   46    False\n",
       "10000012  11.358074   53   98     True\n",
       "10000013  11.358075  187   88    False\n",
       "10000014  11.358076  106  109    False\n",
       "10000015  11.358076  218   35    False\n",
       "10000016  11.358077   22   47    False\n",
       "10000017  11.358078  131   97     True\n",
       "10000018  11.358080   22   30    False\n",
       "10000019  11.358084  216  100     True\n",
       "10000020  11.358085   32   28    False\n",
       "10000021  11.358085  211  127    False\n",
       "10000022  11.358086  182  132    False\n",
       "10000023  11.358087  235  164    False\n",
       "10000024  11.358087  144   42    False\n",
       "10000025  11.358091  210  153    False\n",
       "10000026  11.358091  218   47    False\n",
       "10000027  11.358092  193  149    False\n",
       "10000028  11.358092   77  123    False\n",
       "10000029  11.358093  186   52    False\n",
       "10000030  11.358093   24   33    False\n",
       "...             ...  ...  ...      ...\n",
       "10001970  11.359737  123   97     True\n",
       "10001971  11.359738  193  164    False\n",
       "10001972  11.359739  211  153    False\n",
       "10001973  11.359741  126   46     True\n",
       "10001974  11.359744   90  127     True\n",
       "10001975  11.359747  186  131    False\n",
       "10001976  11.359748  195   43    False\n",
       "10001977  11.359749  184   56    False\n",
       "10001978  11.359750  206  153    False\n",
       "10001979  11.359750  145   55    False\n",
       "10001980  11.359750  236  118    False\n",
       "10001981  11.359751  228  128     True\n",
       "10001982  11.359751   65  101    False\n",
       "10001983  11.359752  163  175    False\n",
       "10001984  11.359752  239  112    False\n",
       "10001985  11.359754  226  154    False\n",
       "10001986  11.359755  102  104     True\n",
       "10001987  11.359756  217   49    False\n",
       "10001988  11.359760  218   40     True\n",
       "10001989  11.359760    2  154     True\n",
       "10001990  11.359762   66  128    False\n",
       "10001991  11.359763  125  179    False\n",
       "10001992  11.359763  191   84    False\n",
       "10001993  11.359763  152   67    False\n",
       "10001994  11.359764  212   58     True\n",
       "10001995  11.359765   94   38    False\n",
       "10001996  11.359765  188   50     True\n",
       "10001997  11.359765  161   55     True\n",
       "10001998  11.359766  214  110    False\n",
       "10001999  11.359766  198  150    False\n",
       "\n",
       "[1999 rows x 4 columns]"
      ]
     },
     "execution_count": 70,
     "metadata": {},
     "output_type": "execute_result"
    }
   ],
   "source": [
    "df"
   ]
  },
  {
   "cell_type": "code",
   "execution_count": 7,
   "metadata": {
    "collapsed": false
   },
   "outputs": [],
   "source": [
    "class MotionCapture(tables.IsDescription):\n",
    "    time = tables.Float64Col()\n",
    "    px = tables.Float64Col()\n",
    "    py = tables.Float64Col()\n",
    "    pz = tables.Float64Col()\n",
    "    qx = tables.Float64Col()\n",
    "    qy = tables.Float64Col()\n",
    "    qz = tables.Float64Col()\n",
    "    qw = tables.Float64Col()\n"
   ]
  },
  {
   "cell_type": "code",
   "execution_count": 18,
   "metadata": {
    "collapsed": true
   },
   "outputs": [],
   "source": [
    "h5file = tables.open_file(\"data/davis/poster_translation.h5\",\n",
    "                         mode=\"w\",\n",
    "                         title=\"poster_translation\")"
   ]
  },
  {
   "cell_type": "code",
   "execution_count": 20,
   "metadata": {
    "collapsed": false
   },
   "outputs": [],
   "source": [
    "table = h5file.create_table(\"/\", \"groundtruth\", \n",
    "                            MotionCapture,\n",
    "                            \"Ground truth data from motion capture\")"
   ]
  },
  {
   "cell_type": "code",
   "execution_count": 28,
   "metadata": {
    "collapsed": true
   },
   "outputs": [],
   "source": [
    "row = table.row\n",
    "for record in groundtruth.to_records(index=False):\n",
    "    for (i, col) in enumerate(groundtruth.columns):\n",
    "        row[col] = record[i]\n",
    "    row.append()\n",
    "table.flush()"
   ]
  },
  {
   "cell_type": "code",
   "execution_count": 32,
   "metadata": {
    "collapsed": false
   },
   "outputs": [],
   "source": [
    "indexrows = table.cols.time.create_csindex()"
   ]
  },
  {
   "cell_type": "code",
   "execution_count": 33,
   "metadata": {
    "collapsed": true
   },
   "outputs": [],
   "source": [
    "table.flush()"
   ]
  },
  {
   "cell_type": "code",
   "execution_count": 17,
   "metadata": {
    "collapsed": true
   },
   "outputs": [],
   "source": [
    "h5file.close()"
   ]
  },
  {
   "cell_type": "code",
   "execution_count": 39,
   "metadata": {
    "collapsed": false
   },
   "outputs": [
    {
     "data": {
      "text/plain": [
       "[<matplotlib.lines.Line2D at 0x10ac799b0>]"
      ]
     },
     "execution_count": 39,
     "metadata": {},
     "output_type": "execute_result"
    },
    {
     "data": {
      "image/png": "[encoded data removed]",
      "text/plain": [
       "<matplotlib.figure.Figure at 0x10ab9c6d8>"
      ]
     },
     "metadata": {},
     "output_type": "display_data"
    }
   ],
   "source": [
    "plot(groundtruth[\"time\"][:100], groundtruth[\"py\"][:100], \"b.-\")"
   ]
  },
  {
   "cell_type": "code",
   "execution_count": 40,
   "metadata": {
    "collapsed": true
   },
   "outputs": [],
   "source": [
    "class Event(tables.IsDescription):\n",
    "    time = tables.Float64Col()\n",
    "    x = tables.UInt8Col()\n",
    "    y = tables.UInt8Col()\n",
    "    polarity = tables.BoolCol()    "
   ]
  },
  {
   "cell_type": "code",
   "execution_count": 43,
   "metadata": {
    "collapsed": false
   },
   "outputs": [
    {
     "data": {
      "text/plain": [
       "100033286"
      ]
     },
     "execution_count": 43,
     "metadata": {},
     "output_type": "execute_result"
    }
   ],
   "source": [
    "len(events)"
   ]
  },
  {
   "cell_type": "code",
   "execution_count": 44,
   "metadata": {
    "collapsed": false
   },
   "outputs": [],
   "source": [
    "table = h5file.create_table(\"/\", \"events\", \n",
    "                            Event,\n",
    "                            \"Event camera output\",\n",
    "                            expectedrows=len(events))"
   ]
  },
  {
   "cell_type": "code",
   "execution_count": 45,
   "metadata": {
    "collapsed": true
   },
   "outputs": [],
   "source": [
    "row = table.row\n",
    "for record in events.to_records(index=False):\n",
    "    for (i, col) in enumerate(events.columns):\n",
    "        row[col] = record[i]\n",
    "    row.append()\n",
    "table.flush()"
   ]
  },
  {
   "cell_type": "code",
   "execution_count": 46,
   "metadata": {
    "collapsed": false
   },
   "outputs": [
    {
     "data": {
      "text/plain": [
       "100033286"
      ]
     },
     "execution_count": 46,
     "metadata": {},
     "output_type": "execute_result"
    }
   ],
   "source": [
    "table.cols.time.create_csindex()"
   ]
  },
  {
   "cell_type": "code",
   "execution_count": 47,
   "metadata": {
    "collapsed": true
   },
   "outputs": [],
   "source": [
    "table.flush()"
   ]
  },
  {
   "cell_type": "code",
   "execution_count": null,
   "metadata": {
    "collapsed": true
   },
   "outputs": [],
   "source": []
  }
 ],
 "metadata": {
  "kernelspec": {
   "display_name": "Python 3",
   "language": "python",
   "name": "python3"
  },
  "language_info": {
   "codemirror_mode": {
    "name": "ipython",
    "version": 3
   },
   "file_extension": ".py",
   "mimetype": "text/x-python",
   "name": "python",
   "nbconvert_exporter": "python",
   "pygments_lexer": "ipython3",
   "version": "3.5.0"
  }
 },
 "nbformat": 4,
 "nbformat_minor": 0
}
