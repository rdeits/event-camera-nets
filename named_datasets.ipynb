{
 "cells": [
  {
   "cell_type": "code",
   "execution_count": 1,
   "metadata": {
    "collapsed": false
   },
   "outputs": [],
   "source": [
    "%load_ext autoreload\n",
    "%autoreload 2"
   ]
  },
  {
   "cell_type": "code",
   "execution_count": 3,
   "metadata": {
    "collapsed": false
   },
   "outputs": [],
   "source": [
    "import eventcnn\n",
    "from eventcnn.datasources.davis import DavisDataset"
   ]
  },
  {
   "cell_type": "code",
   "execution_count": 4,
   "metadata": {
    "collapsed": false
   },
   "outputs": [],
   "source": [
    "# Load a named dataset from http://rpg.ifi.uzh.ch/davis_data.html\n",
    "# If the dataset is not already present, it will be downloaded\n",
    "# and converted into an HDF5 database for you (this will take \n",
    "# several minutes)\n",
    "shapes_translation = DavisDataset.named_dataset(\"shapes_translation\")"
   ]
  },
  {
   "cell_type": "code",
   "execution_count": 8,
   "metadata": {
    "collapsed": false
   },
   "outputs": [],
   "source": [
    "# You can extract a block of events from the dataset:\n",
    "eventblock = shapes_translation.event_block(start_index=0,\n",
    "                                            num_events=10)"
   ]
  },
  {
   "cell_type": "code",
   "execution_count": 9,
   "metadata": {
    "collapsed": false
   },
   "outputs": [
    {
     "data": {
      "text/html": [
       "<div>\n",
       "<table border=\"1\" class=\"dataframe\">\n",
       "  <thead>\n",
       "    <tr style=\"text-align: right;\">\n",
       "      <th></th>\n",
       "      <th>time</th>\n",
       "      <th>x</th>\n",
       "      <th>y</th>\n",
       "      <th>polarity</th>\n",
       "    </tr>\n",
       "  </thead>\n",
       "  <tbody>\n",
       "    <tr>\n",
       "      <th>1238</th>\n",
       "      <td>0.029450</td>\n",
       "      <td>223</td>\n",
       "      <td>34</td>\n",
       "      <td>False</td>\n",
       "    </tr>\n",
       "    <tr>\n",
       "      <th>1239</th>\n",
       "      <td>0.029460</td>\n",
       "      <td>142</td>\n",
       "      <td>59</td>\n",
       "      <td>True</td>\n",
       "    </tr>\n",
       "    <tr>\n",
       "      <th>1240</th>\n",
       "      <td>0.029479</td>\n",
       "      <td>130</td>\n",
       "      <td>150</td>\n",
       "      <td>True</td>\n",
       "    </tr>\n",
       "    <tr>\n",
       "      <th>1241</th>\n",
       "      <td>0.029483</td>\n",
       "      <td>221</td>\n",
       "      <td>20</td>\n",
       "      <td>False</td>\n",
       "    </tr>\n",
       "    <tr>\n",
       "      <th>1242</th>\n",
       "      <td>0.029486</td>\n",
       "      <td>51</td>\n",
       "      <td>127</td>\n",
       "      <td>True</td>\n",
       "    </tr>\n",
       "    <tr>\n",
       "      <th>1243</th>\n",
       "      <td>0.029521</td>\n",
       "      <td>178</td>\n",
       "      <td>151</td>\n",
       "      <td>False</td>\n",
       "    </tr>\n",
       "    <tr>\n",
       "      <th>1244</th>\n",
       "      <td>0.029535</td>\n",
       "      <td>117</td>\n",
       "      <td>132</td>\n",
       "      <td>False</td>\n",
       "    </tr>\n",
       "    <tr>\n",
       "      <th>1245</th>\n",
       "      <td>0.029536</td>\n",
       "      <td>57</td>\n",
       "      <td>53</td>\n",
       "      <td>False</td>\n",
       "    </tr>\n",
       "    <tr>\n",
       "      <th>1246</th>\n",
       "      <td>0.029598</td>\n",
       "      <td>199</td>\n",
       "      <td>139</td>\n",
       "      <td>False</td>\n",
       "    </tr>\n",
       "    <tr>\n",
       "      <th>1247</th>\n",
       "      <td>0.029603</td>\n",
       "      <td>135</td>\n",
       "      <td>38</td>\n",
       "      <td>False</td>\n",
       "    </tr>\n",
       "  </tbody>\n",
       "</table>\n",
       "</div>"
      ],
      "text/plain": [
       "          time    x    y polarity\n",
       "1238  0.029450  223   34    False\n",
       "1239  0.029460  142   59     True\n",
       "1240  0.029479  130  150     True\n",
       "1241  0.029483  221   20    False\n",
       "1242  0.029486   51  127     True\n",
       "1243  0.029521  178  151    False\n",
       "1244  0.029535  117  132    False\n",
       "1245  0.029536   57   53    False\n",
       "1246  0.029598  199  139    False\n",
       "1247  0.029603  135   38    False"
      ]
     },
     "execution_count": 9,
     "metadata": {},
     "output_type": "execute_result"
    }
   ],
   "source": [
    "# The eventblock contains a field 'events', which contains\n",
    "# the relevant subset of events as a Pandas DataFrame:\n",
    "eventblock.events"
   ]
  },
  {
   "cell_type": "code",
   "execution_count": 10,
   "metadata": {
    "collapsed": false
   },
   "outputs": [
    {
     "data": {
      "text/plain": [
       "array([ -3.37585913e-06,   2.24432213e-06,  -1.66313513e-06])"
      ]
     },
     "execution_count": 10,
     "metadata": {},
     "output_type": "execute_result"
    }
   ],
   "source": [
    "# And the eventblock also contains an extracted change in\n",
    "# position from the groundtruth data. \n",
    "eventblock.delta_position"
   ]
  },
  {
   "cell_type": "code",
   "execution_count": 12,
   "metadata": {
    "collapsed": false
   },
   "outputs": [
    {
     "data": {
      "text/plain": [
       "SparseTensorValue(indices=array([[223,  34,   0],\n",
       "       [142,  59,   1],\n",
       "       [130, 150,   2],\n",
       "       [221,  20,   3],\n",
       "       [ 51, 127,   4],\n",
       "       [178, 151,   5],\n",
       "       [117, 132,   6],\n",
       "       [ 57,  53,   7],\n",
       "       [199, 139,   8],\n",
       "       [135,  38,   9]]), values=array([-0.5,  0.5,  0.5, -0.5,  0.5, -0.5, -0.5, -0.5, -0.5, -0.5]), shape=[240, 180, 10])"
      ]
     },
     "execution_count": 12,
     "metadata": {},
     "output_type": "execute_result"
    }
   ],
   "source": [
    "# You can also extract the events as a tf.SparseTensorValue\n",
    "# When convering to tensors, the polarity is shifted from \n",
    "# {false, true} to {-0.5, 0.5}\n",
    "eventblock.events_as_sparse_tensor()"
   ]
  }
 ],
 "metadata": {
  "kernelspec": {
   "display_name": "Python 3",
   "language": "python",
   "name": "python3"
  },
  "language_info": {
   "codemirror_mode": {
    "name": "ipython",
    "version": 3
   },
   "file_extension": ".py",
   "mimetype": "text/x-python",
   "name": "python",
   "nbconvert_exporter": "python",
   "pygments_lexer": "ipython3",
   "version": "3.5.0"
  }
 },
 "nbformat": 4,
 "nbformat_minor": 0
}
