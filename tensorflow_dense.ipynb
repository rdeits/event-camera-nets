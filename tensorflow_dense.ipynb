{
 "cells": [
  {
   "cell_type": "markdown",
   "metadata": {},
   "source": [
    "# Extremely simple dense conv3d demo\n",
    "\n",
    "This is a very simple model which demonstrates usage of the conv3d layer on dense tensor data. A single input to the network consists of a 3x3x3x1 block of data, with exactly 1 element set to 1.0 and the rest set to 0.0. The network produces 3 outputs, which should be the [x, y, z] position of that single element. Note that the block has a trailing dimension of length 1 because tensorflow really wants you to have a color channel dimension. "
   ]
  },
  {
   "cell_type": "code",
   "execution_count": 105,
   "metadata": {
    "collapsed": true
   },
   "outputs": [],
   "source": [
    "import numpy as np\n",
    "import tensorflow as tf"
   ]
  },
  {
   "cell_type": "code",
   "execution_count": 106,
   "metadata": {
    "collapsed": true
   },
   "outputs": [],
   "source": [
    "# Copied from the tensorflow tutorial in class\n",
    "def init_weights(shape):\n",
    "    return tf.Variable(tf.random_normal(shape, stddev=0.01))\n",
    "\n",
    "def init_bias(shape):\n",
    "    return tf.Variable(tf.zeros(shape))"
   ]
  },
  {
   "cell_type": "code",
   "execution_count": 110,
   "metadata": {
    "collapsed": true
   },
   "outputs": [],
   "source": [
    "def training_batch(batch_size):\n",
    "    \"\"\"\n",
    "    Generate batch_size arrays of size 3x3x3x1, with exactly \n",
    "    one nonzero element, and the labels consisting of the \n",
    "    [x, y, z] indices of that element\n",
    "    \"\"\"\n",
    "    data_batch = np.zeros((batch_size, 3, 3, 3, 1))\n",
    "    labels_batch = np.zeros((batch_size, 3))\n",
    "    for i in range(batch_size):\n",
    "        x = np.random.randint(0, 3)\n",
    "        y = np.random.randint(0, 3)\n",
    "        z = np.random.randint(0, 3)\n",
    "        data_batch[i, x, y, z, 0] = 1.0\n",
    "        labels_batch[i, :] = [x, y, z]\n",
    "    return data_batch, labels_batch\n",
    "\n",
    "def test_set():\n",
    "    \"\"\"\n",
    "    Generate all possible one-hot 3x3x3x1 arrays\n",
    "    and their corresponding labels\n",
    "    \"\"\"\n",
    "    data = []\n",
    "    labels = []\n",
    "    for x in range(3):\n",
    "        for y in range(3):\n",
    "            for z in range(3):\n",
    "                block = np.zeros((3,3,3,1))\n",
    "                block[x, y, z, 0] = 1.0\n",
    "                data.append(block)\n",
    "                label = [x, y, z]\n",
    "                labels.append(label)\n",
    "    return np.stack(data), np.stack(labels)"
   ]
  },
  {
   "cell_type": "code",
   "execution_count": 111,
   "metadata": {
    "collapsed": false
   },
   "outputs": [],
   "source": [
    "length = 3\n",
    "nvals = 1\n",
    "input_tensor = tf.placeholder(tf.float32, [None, length, length, length, 1])\n",
    "\n",
    "conv1 = tf.nn.conv3d(input_tensor,\n",
    "                     init_weights([3,3,3,1,1]),\n",
    "                     strides=[1,1,1,1,1],\n",
    "                     padding='SAME')\n",
    "conv1 = tf.nn.relu(tf.nn.bias_add(conv1,\n",
    "                                  init_bias(1)))\n",
    "fc = tf.reshape(conv1, [-1, 3*3*3])\n",
    "fc = tf.add(tf.matmul(fc, init_weights([3*3*3, 18])), init_bias(18))\n",
    "fc = tf.nn.relu(fc)\n",
    "\n",
    "out = tf.add(tf.matmul(fc, init_weights([18,3])), init_bias(3))\n",
    "\n",
    "y = tf.placeholder(tf.float32, [None, 3])\n",
    "\n",
    "loss = tf.nn.l2_loss(tf.sub(out, y))\n",
    "train_optimizer = tf.train.AdamOptimizer(learning_rate=0.001).minimize(loss)\n",
    "\n",
    "correct_pred = tf.equal(tf.round(out), y)\n",
    "accuracy = tf.reduce_mean(tf.cast(correct_pred, tf.float32))\n",
    "\n",
    "init = tf.initialize_all_variables()"
   ]
  },
  {
   "cell_type": "code",
   "execution_count": 112,
   "metadata": {
    "collapsed": false,
    "scrolled": false
   },
   "outputs": [
    {
     "name": "stdout",
     "output_type": "stream",
     "text": [
      "acc: 1.0\n",
      "[[ 0.05053852 -0.05796198  0.97312009]]\n"
     ]
    }
   ],
   "source": [
    "training_steps = 1000\n",
    "batch_size = 100\n",
    "\n",
    "sess = tf.Session()\n",
    "# with tf.Session() as sess:\n",
    "sess.run(init)\n",
    "\n",
    "for step in range(training_steps):\n",
    "    data_batch, labels_batch = training_batch(batch_size)\n",
    "    sess.run(train_optimizer, feed_dict={input_tensor: data_batch,\n",
    "                                         y: labels_batch})\n",
    "\n",
    "data_test, labels_test = test_set()\n",
    "acc = sess.run(accuracy, feed_dict={input_tensor: data_test,\n",
    "                              y: labels_test})\n",
    "print(\"acc:\", acc)\n",
    "print(sess.run(out, feed_dict={input_tensor: data_test[1:2]}))"
   ]
  },
  {
   "cell_type": "markdown",
   "metadata": {},
   "source": [
    "# Checking the answer\n"
   ]
  },
  {
   "cell_type": "code",
   "execution_count": 114,
   "metadata": {
    "collapsed": false
   },
   "outputs": [],
   "source": [
    "assert np.all(sess.run(tf.round(out), feed_dict={input_tensor: data_test}) == labels_test)"
   ]
  },
  {
   "cell_type": "code",
   "execution_count": 115,
   "metadata": {
    "collapsed": false
   },
   "outputs": [
    {
     "name": "stdout",
     "output_type": "stream",
     "text": [
      "[[ 0.  0.  0.]\n",
      " [ 0.  0.  1.]\n",
      " [ 0.  0.  2.]\n",
      " [ 0.  1.  0.]\n",
      " [ 0.  1.  1.]\n",
      " [ 0.  1.  2.]\n",
      " [ 0.  2.  0.]\n",
      " [ 0.  2.  1.]\n",
      " [ 0.  2.  2.]\n",
      " [ 1.  0.  0.]\n",
      " [ 1.  0.  1.]\n",
      " [ 1.  0.  2.]\n",
      " [ 1.  1.  0.]\n",
      " [ 1.  1.  1.]\n",
      " [ 1.  1.  2.]\n",
      " [ 1.  2.  0.]\n",
      " [ 1.  2.  1.]\n",
      " [ 1.  2.  2.]\n",
      " [ 2.  0.  0.]\n",
      " [ 2.  0.  1.]\n",
      " [ 2.  0.  2.]\n",
      " [ 2.  1.  0.]\n",
      " [ 2.  1.  1.]\n",
      " [ 2.  1.  2.]\n",
      " [ 2.  2.  0.]\n",
      " [ 2.  2.  1.]\n",
      " [ 2.  2.  2.]]\n"
     ]
    }
   ],
   "source": [
    "print(sess.run(tf.round(out), feed_dict={input_tensor: data_test}))"
   ]
  },
  {
   "cell_type": "code",
   "execution_count": 116,
   "metadata": {
    "collapsed": false
   },
   "outputs": [
    {
     "data": {
      "text/plain": [
       "array([[0, 0, 0],\n",
       "       [0, 0, 1],\n",
       "       [0, 0, 2],\n",
       "       [0, 1, 0],\n",
       "       [0, 1, 1],\n",
       "       [0, 1, 2],\n",
       "       [0, 2, 0],\n",
       "       [0, 2, 1],\n",
       "       [0, 2, 2],\n",
       "       [1, 0, 0],\n",
       "       [1, 0, 1],\n",
       "       [1, 0, 2],\n",
       "       [1, 1, 0],\n",
       "       [1, 1, 1],\n",
       "       [1, 1, 2],\n",
       "       [1, 2, 0],\n",
       "       [1, 2, 1],\n",
       "       [1, 2, 2],\n",
       "       [2, 0, 0],\n",
       "       [2, 0, 1],\n",
       "       [2, 0, 2],\n",
       "       [2, 1, 0],\n",
       "       [2, 1, 1],\n",
       "       [2, 1, 2],\n",
       "       [2, 2, 0],\n",
       "       [2, 2, 1],\n",
       "       [2, 2, 2]])"
      ]
     },
     "execution_count": 116,
     "metadata": {},
     "output_type": "execute_result"
    }
   ],
   "source": [
    "labels_test"
   ]
  },
  {
   "cell_type": "code",
   "execution_count": 61,
   "metadata": {
    "collapsed": true
   },
   "outputs": [],
   "source": [
    "sess.close()"
   ]
  },
  {
   "cell_type": "code",
   "execution_count": null,
   "metadata": {
    "collapsed": true
   },
   "outputs": [],
   "source": []
  }
 ],
 "metadata": {
  "kernelspec": {
   "display_name": "Python 3",
   "language": "python",
   "name": "python3"
  },
  "language_info": {
   "codemirror_mode": {
    "name": "ipython",
    "version": 3
   },
   "file_extension": ".py",
   "mimetype": "text/x-python",
   "name": "python",
   "nbconvert_exporter": "python",
   "pygments_lexer": "ipython3",
   "version": "3.4.3"
  }
 },
 "nbformat": 4,
 "nbformat_minor": 1
}
