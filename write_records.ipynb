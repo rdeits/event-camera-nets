{
 "cells": [
  {
   "cell_type": "code",
   "execution_count": 1,
   "metadata": {
    "collapsed": true
   },
   "outputs": [],
   "source": [
    "%load_ext autoreload\n",
    "%autoreload 2"
   ]
  },
  {
   "cell_type": "code",
   "execution_count": 2,
   "metadata": {
    "collapsed": true
   },
   "outputs": [],
   "source": [
    "import tensorflow as tf\n",
    "import numpy as np"
   ]
  },
  {
   "cell_type": "code",
   "execution_count": 35,
   "metadata": {
    "collapsed": false
   },
   "outputs": [],
   "source": [
    "from eventcnn.datasources.davis import DavisDataset\n",
    "from eventcnn.datasources.eventsource import EventSource"
   ]
  },
  {
   "cell_type": "code",
   "execution_count": 36,
   "metadata": {
    "collapsed": true
   },
   "outputs": [],
   "source": [
    "dataset1 = DavisDataset.named_dataset(\"poster_translation\")\n",
    "dataset2 = DavisDataset.named_dataset(\"shapes_translation\")"
   ]
  },
  {
   "cell_type": "code",
   "execution_count": 37,
   "metadata": {
    "collapsed": true
   },
   "outputs": [],
   "source": [
    "source1 = EventSource(dataset1, \n",
    "                      testing_fraction=0.2,\n",
    "                      validation_fraction=0.4,\n",
    "                      events_per_block=1000)\n",
    "source2 = EventSource(dataset2, \n",
    "                      testing_fraction=0.2,\n",
    "                      validation_fraction=0.4,\n",
    "                      events_per_block=1000)"
   ]
  },
  {
   "cell_type": "code",
   "execution_count": 38,
   "metadata": {
    "collapsed": false
   },
   "outputs": [
    {
     "name": "stdout",
     "output_type": "stream",
     "text": [
      "training 1\n",
      "training 2\n",
      "training 3\n",
      "training 4\n",
      "training 5\n",
      "training 6\n",
      "training 7\n",
      "training 8\n",
      "training 9\n",
      "training 10\n",
      "training 11\n",
      "training 12\n",
      "training 13\n",
      "training 14\n",
      "training 15\n",
      "training 16\n",
      "training 17\n",
      "training 18\n",
      "training 19\n",
      "training 20\n",
      "training 21\n",
      "validation 1\n",
      "validation 2\n",
      "validation 3\n",
      "validation 4\n",
      "validation 5\n",
      "validation 6\n",
      "validation 7\n",
      "validation 8\n",
      "validation 9\n",
      "validation 10\n",
      "validation 11\n",
      "validation 12\n",
      "validation 13\n",
      "validation 14\n",
      "validation 15\n",
      "validation 16\n",
      "validation 17\n",
      "validation 18\n",
      "validation 19\n",
      "validation 20\n",
      "validation 21\n",
      "testing 1\n",
      "testing 2\n",
      "testing 3\n",
      "testing 4\n",
      "testing 5\n",
      "testing 6\n",
      "testing 7\n",
      "testing 8\n",
      "testing 9\n",
      "testing 10\n",
      "testing 11\n",
      "testing 12\n",
      "testing 13\n",
      "testing 14\n",
      "testing 15\n",
      "testing 16\n",
      "testing 17\n",
      "testing 18\n",
      "testing 19\n",
      "testing 20\n",
      "testing 21\n"
     ]
    }
   ],
   "source": [
    "source2.write_records(\"records\", n_layers=4, scaling=2)"
   ]
  },
  {
   "cell_type": "code",
   "execution_count": null,
   "metadata": {
    "collapsed": true
   },
   "outputs": [],
   "source": []
  }
 ],
 "metadata": {
  "kernelspec": {
   "display_name": "Python 3",
   "language": "python",
   "name": "python3"
  },
  "language_info": {
   "codemirror_mode": {
    "name": "ipython",
    "version": 3
   },
   "file_extension": ".py",
   "mimetype": "text/x-python",
   "name": "python",
   "nbconvert_exporter": "python",
   "pygments_lexer": "ipython3",
   "version": "3.5.0"
  }
 },
 "nbformat": 4,
 "nbformat_minor": 2
}
